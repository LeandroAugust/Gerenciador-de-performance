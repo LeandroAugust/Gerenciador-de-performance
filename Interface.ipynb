{
 "cells": [
  {
   "cell_type": "code",
   "execution_count": 13,
   "metadata": {},
   "outputs": [
    {
     "data": {
      "text/plain": [
       "<__main__.Homepage at 0x2864f85ec60>"
      ]
     },
     "execution_count": 13,
     "metadata": {},
     "output_type": "execute_result"
    }
   ],
   "source": [
    "import tkinter as tk\n",
    "from tkinter import filedialog\n",
    "\n",
    "class Homepage:\n",
    "    def __init__(self):\n",
    "        inicio = tk.Tk()\n",
    "\n",
    "        inicio.title(\"Pomodoro\")\n",
    "        inicio.geometry(\"720x580+100+50\")\n",
    "        inicio['bg'] = '#F2F2F2'\n",
    "\n",
    "        def quit_app():\n",
    "            inicio.destroy()\n",
    "\n",
    "        menubar = tk.Menu(tearoff=False)\n",
    "        inicio.config(menu=menubar)\n",
    "\n",
    "\n",
    "        MENUferramentas = tk.Menu(tearoff=False)\n",
    "        menulang = tk.Menu(tearoff=False)\n",
    "        menubar.add_cascade(label=\"Ferramentas\", menu=MENUferramentas)\n",
    "\n",
    "        menulang.add_command(label=\"Português\")\n",
    "        menulang.add_command(label=\"English\")\n",
    "        MENUferramentas.add_cascade(label=\"Linguagens\", menu=menulang)\n",
    "\n",
    "        def dark_mode():\n",
    "            inicio.configure(background=\"#2E2E2E\")\n",
    "\n",
    "        def light_mode():\n",
    "            inicio.configure(background=\"light gray\")\n",
    "\n",
    "        menuamb = tk.Menu(tearoff=False)\n",
    "        menuamb.add_checkbutton(label=\"Claro\", command=light_mode)\n",
    "        menuamb.add_checkbutton(label=\"Escuro\", command=dark_mode)\n",
    "        MENUferramentas.add_cascade(label=\"Ambiente\", menu=menuamb)\n",
    "\n",
    "        MENUajuda = tk.Menu(menubar, tearoff=False)\n",
    "        MENUajuda.add_command(label=\"Sobre\", command=self.sobre)\n",
    "        MENUajuda.add_command(label=\"Como Usar?\")\n",
    "        menubar.add_cascade(label=\"Ajuda\", menu=MENUajuda)\n",
    "\n",
    "        inicio.mainloop()\n",
    "\n",
    "    def sobre(self):\n",
    "        root = tk.Tk()\n",
    "        root.geometry(\"240x110+75+75\")\n",
    "        root.title(\"Sobre\")\n",
    "\n",
    "        texto = \"Gestão de Tempo \"\n",
    "        text_on_label = tk.Label(root, text=texto)\n",
    "        text_on_label.pack()\n",
    "\n",
    "        lb2 = tk.Label(root, text=\"pelo método pomodoro\")\n",
    "        lb2.pack()\n",
    "\n",
    "Homepage()\n",
    "\n"
   ]
  }
 ],
 "metadata": {
  "kernelspec": {
   "display_name": "Python 3",
   "language": "python",
   "name": "python3"
  },
  "language_info": {
   "codemirror_mode": {
    "name": "ipython",
    "version": 3
   },
   "file_extension": ".py",
   "mimetype": "text/x-python",
   "name": "python",
   "nbconvert_exporter": "python",
   "pygments_lexer": "ipython3",
   "version": "3.12.2"
  }
 },
 "nbformat": 4,
 "nbformat_minor": 2
}
