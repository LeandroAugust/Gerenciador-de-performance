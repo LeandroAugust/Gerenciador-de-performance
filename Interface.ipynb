{
 "cells": [
  {
   "cell_type": "code",
   "execution_count": 5,
   "metadata": {},
   "outputs": [],
   "source": [
    "import tkinter as tk\n",
    "from tkinter import ttk\n",
    "\n",
    "def mostrar_mensagem():\n",
    "    label[\"text\"] = \"Olá, mundo!\"\n",
    "\n",
    "def alternar_tema():\n",
    "    if janela.tk.call(\"ttk::style\", \"theme\", \"use\") == \"clam\":\n",
    "        janela.tk.call(\"ttk::style\", \"theme\", \"use\", \"alt\")\n",
    "    else:\n",
    "        janela.tk.call(\"ttk::style\", \"theme\", \"use\", \"clam\")\n",
    "\n",
    "janela = tk.Tk()\n",
    "janela.title(\"Minha Interface\")\n",
    "\n",
    "label = tk.Label(janela, text=\"Clique no botão para exibir uma mensagem!\")\n",
    "label.pack(padx=20, pady=20)\n",
    "\n",
    "botao = tk.Button(janela, text=\"Clique aqui\", command=mostrar_mensagem)\n",
    "botao.pack(pady=10)\n",
    "\n",
    "botao_escuro = tk.Button(janela, text=\"Modo Escuro\", command=alternar_tema)\n",
    "botao_escuro.place(x=10, y=10)\n",
    "\n",
    "janela.mainloop()\n"
   ]
  }
 ],
 "metadata": {
  "kernelspec": {
   "display_name": "Python 3",
   "language": "python",
   "name": "python3"
  },
  "language_info": {
   "codemirror_mode": {
    "name": "ipython",
    "version": 3
   },
   "file_extension": ".py",
   "mimetype": "text/x-python",
   "name": "python",
   "nbconvert_exporter": "python",
   "pygments_lexer": "ipython3",
   "version": "3.12.2"
  }
 },
 "nbformat": 4,
 "nbformat_minor": 2
}
